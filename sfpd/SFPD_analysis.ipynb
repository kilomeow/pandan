{
 "cells": [
  {
   "cell_type": "code",
   "execution_count": 2,
   "metadata": {},
   "outputs": [],
   "source": [
    "import pandas as pd"
   ]
  },
  {
   "cell_type": "code",
   "execution_count": 3,
   "metadata": {},
   "outputs": [
    {
     "data": {
      "text/html": [
       "<div>\n",
       "<style scoped>\n",
       "    .dataframe tbody tr th:only-of-type {\n",
       "        vertical-align: middle;\n",
       "    }\n",
       "\n",
       "    .dataframe tbody tr th {\n",
       "        vertical-align: top;\n",
       "    }\n",
       "\n",
       "    .dataframe thead th {\n",
       "        text-align: right;\n",
       "    }\n",
       "</style>\n",
       "<table border=\"1\" class=\"dataframe\">\n",
       "  <thead>\n",
       "    <tr style=\"text-align: right;\">\n",
       "      <th></th>\n",
       "      <th>Incident Datetime</th>\n",
       "      <th>Incident Date</th>\n",
       "      <th>Incident Time</th>\n",
       "      <th>Incident Year</th>\n",
       "      <th>Incident Day of Week</th>\n",
       "      <th>Report Datetime</th>\n",
       "      <th>Row ID</th>\n",
       "      <th>Incident ID</th>\n",
       "      <th>Incident Number</th>\n",
       "      <th>CAD Number</th>\n",
       "      <th>...</th>\n",
       "      <th>SF Find Neighborhoods</th>\n",
       "      <th>Current Police Districts</th>\n",
       "      <th>Current Supervisor Districts</th>\n",
       "      <th>Analysis Neighborhoods</th>\n",
       "      <th>HSOC Zones as of 2018-06-05</th>\n",
       "      <th>OWED Public Spaces</th>\n",
       "      <th>Central Market/Tenderloin Boundary Polygon - Updated</th>\n",
       "      <th>Parks Alliance CPSI (27+TL sites)</th>\n",
       "      <th>ESNCAG - Boundary File</th>\n",
       "      <th>Areas of Vulnerability, 2016</th>\n",
       "    </tr>\n",
       "  </thead>\n",
       "  <tbody>\n",
       "    <tr>\n",
       "      <th>0</th>\n",
       "      <td>2019/05/01 01:00:00 AM</td>\n",
       "      <td>2019/05/01</td>\n",
       "      <td>01:00</td>\n",
       "      <td>2019</td>\n",
       "      <td>Wednesday</td>\n",
       "      <td>2019/06/12 08:27:00 PM</td>\n",
       "      <td>81097515200</td>\n",
       "      <td>810975</td>\n",
       "      <td>190424067</td>\n",
       "      <td>191634131.0</td>\n",
       "      <td>...</td>\n",
       "      <td>39.0</td>\n",
       "      <td>10.0</td>\n",
       "      <td>7.0</td>\n",
       "      <td>35.0</td>\n",
       "      <td>NaN</td>\n",
       "      <td>NaN</td>\n",
       "      <td>NaN</td>\n",
       "      <td>NaN</td>\n",
       "      <td>NaN</td>\n",
       "      <td>1.0</td>\n",
       "    </tr>\n",
       "    <tr>\n",
       "      <th>1</th>\n",
       "      <td>2019/06/22 07:45:00 AM</td>\n",
       "      <td>2019/06/22</td>\n",
       "      <td>07:45</td>\n",
       "      <td>2019</td>\n",
       "      <td>Saturday</td>\n",
       "      <td>2019/06/22 08:05:00 AM</td>\n",
       "      <td>81465564020</td>\n",
       "      <td>814655</td>\n",
       "      <td>190450880</td>\n",
       "      <td>191730737.0</td>\n",
       "      <td>...</td>\n",
       "      <td>32.0</td>\n",
       "      <td>1.0</td>\n",
       "      <td>10.0</td>\n",
       "      <td>34.0</td>\n",
       "      <td>1.0</td>\n",
       "      <td>NaN</td>\n",
       "      <td>1.0</td>\n",
       "      <td>NaN</td>\n",
       "      <td>NaN</td>\n",
       "      <td>2.0</td>\n",
       "    </tr>\n",
       "    <tr>\n",
       "      <th>2</th>\n",
       "      <td>2019/06/03 04:16:00 PM</td>\n",
       "      <td>2019/06/03</td>\n",
       "      <td>16:16</td>\n",
       "      <td>2019</td>\n",
       "      <td>Monday</td>\n",
       "      <td>2019/06/03 04:16:00 PM</td>\n",
       "      <td>80769875000</td>\n",
       "      <td>807698</td>\n",
       "      <td>190397016</td>\n",
       "      <td>191533509.0</td>\n",
       "      <td>...</td>\n",
       "      <td>88.0</td>\n",
       "      <td>2.0</td>\n",
       "      <td>9.0</td>\n",
       "      <td>1.0</td>\n",
       "      <td>NaN</td>\n",
       "      <td>NaN</td>\n",
       "      <td>NaN</td>\n",
       "      <td>NaN</td>\n",
       "      <td>NaN</td>\n",
       "      <td>2.0</td>\n",
       "    </tr>\n",
       "    <tr>\n",
       "      <th>3</th>\n",
       "      <td>2018/11/16 04:34:00 PM</td>\n",
       "      <td>2018/11/16</td>\n",
       "      <td>16:34</td>\n",
       "      <td>2018</td>\n",
       "      <td>Friday</td>\n",
       "      <td>2018/11/16 04:34:00 PM</td>\n",
       "      <td>73857915041</td>\n",
       "      <td>738579</td>\n",
       "      <td>180870806</td>\n",
       "      <td>183202539.0</td>\n",
       "      <td>...</td>\n",
       "      <td>104.0</td>\n",
       "      <td>6.0</td>\n",
       "      <td>3.0</td>\n",
       "      <td>6.0</td>\n",
       "      <td>NaN</td>\n",
       "      <td>18.0</td>\n",
       "      <td>NaN</td>\n",
       "      <td>NaN</td>\n",
       "      <td>NaN</td>\n",
       "      <td>2.0</td>\n",
       "    </tr>\n",
       "    <tr>\n",
       "      <th>4</th>\n",
       "      <td>2019/05/27 02:25:00 AM</td>\n",
       "      <td>2019/05/27</td>\n",
       "      <td>02:25</td>\n",
       "      <td>2019</td>\n",
       "      <td>Monday</td>\n",
       "      <td>2019/05/27 02:55:00 AM</td>\n",
       "      <td>80509204134</td>\n",
       "      <td>805092</td>\n",
       "      <td>190378555</td>\n",
       "      <td>191470256.0</td>\n",
       "      <td>...</td>\n",
       "      <td>15.0</td>\n",
       "      <td>4.0</td>\n",
       "      <td>6.0</td>\n",
       "      <td>13.0</td>\n",
       "      <td>NaN</td>\n",
       "      <td>NaN</td>\n",
       "      <td>NaN</td>\n",
       "      <td>NaN</td>\n",
       "      <td>NaN</td>\n",
       "      <td>1.0</td>\n",
       "    </tr>\n",
       "  </tbody>\n",
       "</table>\n",
       "<p>5 rows × 36 columns</p>\n",
       "</div>"
      ],
      "text/plain": [
       "        Incident Datetime Incident Date Incident Time  Incident Year  \\\n",
       "0  2019/05/01 01:00:00 AM    2019/05/01         01:00           2019   \n",
       "1  2019/06/22 07:45:00 AM    2019/06/22         07:45           2019   \n",
       "2  2019/06/03 04:16:00 PM    2019/06/03         16:16           2019   \n",
       "3  2018/11/16 04:34:00 PM    2018/11/16         16:34           2018   \n",
       "4  2019/05/27 02:25:00 AM    2019/05/27         02:25           2019   \n",
       "\n",
       "  Incident Day of Week         Report Datetime       Row ID  Incident ID  \\\n",
       "0            Wednesday  2019/06/12 08:27:00 PM  81097515200       810975   \n",
       "1             Saturday  2019/06/22 08:05:00 AM  81465564020       814655   \n",
       "2               Monday  2019/06/03 04:16:00 PM  80769875000       807698   \n",
       "3               Friday  2018/11/16 04:34:00 PM  73857915041       738579   \n",
       "4               Monday  2019/05/27 02:55:00 AM  80509204134       805092   \n",
       "\n",
       "   Incident Number   CAD Number  ... SF Find Neighborhoods  \\\n",
       "0        190424067  191634131.0  ...                  39.0   \n",
       "1        190450880  191730737.0  ...                  32.0   \n",
       "2        190397016  191533509.0  ...                  88.0   \n",
       "3        180870806  183202539.0  ...                 104.0   \n",
       "4        190378555  191470256.0  ...                  15.0   \n",
       "\n",
       "  Current Police Districts Current Supervisor Districts  \\\n",
       "0                     10.0                          7.0   \n",
       "1                      1.0                         10.0   \n",
       "2                      2.0                          9.0   \n",
       "3                      6.0                          3.0   \n",
       "4                      4.0                          6.0   \n",
       "\n",
       "   Analysis Neighborhoods HSOC Zones as of 2018-06-05 OWED Public Spaces  \\\n",
       "0                    35.0                         NaN                NaN   \n",
       "1                    34.0                         1.0                NaN   \n",
       "2                     1.0                         NaN                NaN   \n",
       "3                     6.0                         NaN               18.0   \n",
       "4                    13.0                         NaN                NaN   \n",
       "\n",
       "  Central Market/Tenderloin Boundary Polygon - Updated  \\\n",
       "0                                                NaN     \n",
       "1                                                1.0     \n",
       "2                                                NaN     \n",
       "3                                                NaN     \n",
       "4                                                NaN     \n",
       "\n",
       "  Parks Alliance CPSI (27+TL sites) ESNCAG - Boundary File  \\\n",
       "0                               NaN                    NaN   \n",
       "1                               NaN                    NaN   \n",
       "2                               NaN                    NaN   \n",
       "3                               NaN                    NaN   \n",
       "4                               NaN                    NaN   \n",
       "\n",
       "   Areas of Vulnerability, 2016  \n",
       "0                           1.0  \n",
       "1                           2.0  \n",
       "2                           2.0  \n",
       "3                           2.0  \n",
       "4                           1.0  \n",
       "\n",
       "[5 rows x 36 columns]"
      ]
     },
     "execution_count": 3,
     "metadata": {},
     "output_type": "execute_result"
    }
   ],
   "source": [
    "df = pd.read_csv(\"Police_Department_Incident_Reports__2018_to_Present.csv\")\n",
    "df.head()"
   ]
  },
  {
   "cell_type": "code",
   "execution_count": 4,
   "metadata": {},
   "outputs": [
    {
     "data": {
      "text/plain": [
       "Index(['Incident Datetime', 'Incident Date', 'Incident Time', 'Incident Year',\n",
       "       'Incident Day of Week', 'Report Datetime', 'Row ID', 'Incident ID',\n",
       "       'Incident Number', 'CAD Number', 'Report Type Code',\n",
       "       'Report Type Description', 'Filed Online', 'Incident Code',\n",
       "       'Incident Category', 'Incident Subcategory', 'Incident Description',\n",
       "       'Resolution', 'Intersection', 'CNN', 'Police District',\n",
       "       'Analysis Neighborhood', 'Supervisor District', 'Latitude', 'Longitude',\n",
       "       'point', 'SF Find Neighborhoods', 'Current Police Districts',\n",
       "       'Current Supervisor Districts', 'Analysis Neighborhoods',\n",
       "       'HSOC Zones as of 2018-06-05', 'OWED Public Spaces',\n",
       "       'Central Market/Tenderloin Boundary Polygon - Updated',\n",
       "       'Parks Alliance CPSI (27+TL sites)', 'ESNCAG - Boundary File',\n",
       "       'Areas of Vulnerability, 2016'],\n",
       "      dtype='object')"
      ]
     },
     "execution_count": 4,
     "metadata": {},
     "output_type": "execute_result"
    }
   ],
   "source": [
    "df.columns"
   ]
  },
  {
   "cell_type": "code",
   "execution_count": 5,
   "metadata": {},
   "outputs": [
    {
     "data": {
      "text/plain": [
       "0         2019/05/01 01:00:00 AM\n",
       "1         2019/06/22 07:45:00 AM\n",
       "2         2019/06/03 04:16:00 PM\n",
       "3         2018/11/16 04:34:00 PM\n",
       "4         2019/05/27 02:25:00 AM\n",
       "                   ...          \n",
       "365628    2019/03/25 08:45:00 PM\n",
       "365629    2019/05/01 04:45:00 PM\n",
       "365630    2019/08/05 03:11:00 PM\n",
       "365631    2019/04/23 10:22:00 PM\n",
       "365632    2018/12/29 12:30:00 AM\n",
       "Name: Incident Datetime, Length: 365633, dtype: object"
      ]
     },
     "execution_count": 5,
     "metadata": {},
     "output_type": "execute_result"
    }
   ],
   "source": [
    "df['Incident Datetime']"
   ]
  },
  {
   "cell_type": "code",
   "execution_count": 6,
   "metadata": {},
   "outputs": [],
   "source": [
    "from datetime import datetime"
   ]
  },
  {
   "cell_type": "code",
   "execution_count": 7,
   "metadata": {},
   "outputs": [],
   "source": [
    "df['dt'] = df['Incident Datetime'].apply(lambda s: datetime.strptime(s, \"%Y/%m/%d %H:%M:%S %p\"))"
   ]
  },
  {
   "cell_type": "code",
   "execution_count": 20,
   "metadata": {},
   "outputs": [],
   "source": [
    "df['year'] = df['dt'].apply(lambda dt: dt.year)\n",
    "df['week'] = df['dt'].apply(lambda dt: dt.week)"
   ]
  },
  {
   "cell_type": "code",
   "execution_count": 36,
   "metadata": {},
   "outputs": [],
   "source": [
    "incidents2020 = df[df['year'] == 2020]"
   ]
  },
  {
   "cell_type": "code",
   "execution_count": 41,
   "metadata": {},
   "outputs": [
    {
     "data": {
      "text/plain": [
       "<AxesSubplot:ylabel='Frequency'>"
      ]
     },
     "execution_count": 41,
     "metadata": {},
     "output_type": "execute_result"
    },
    {
     "data": {
      "image/png": "[encoded data removed]",
      "text/plain": [
       "<Figure size 432x288 with 1 Axes>"
      ]
     },
     "metadata": {
      "needs_background": "light"
     },
     "output_type": "display_data"
    }
   ],
   "source": [
    "incidents2020['week'].plot.hist(bins=60)"
   ]
  },
  {
   "cell_type": "code",
   "execution_count": 42,
   "metadata": {},
   "outputs": [],
   "source": [
    "l = list(map(tuple, df[['Latitude', 'Longitude']].to_numpy()))"
   ]
  },
  {
   "cell_type": "code",
   "execution_count": 43,
   "metadata": {},
   "outputs": [
    {
     "data": {
      "text/plain": [
       "(365633, 25499)"
      ]
     },
     "execution_count": 43,
     "metadata": {},
     "output_type": "execute_result"
    }
   ],
   "source": [
    "len(l), len(set(l))"
   ]
  },
  {
   "cell_type": "code",
   "execution_count": 44,
   "metadata": {},
   "outputs": [],
   "source": [
    "def groupby(data):  # [(hash, content), ...] -> [(hash, [content1, content2, ...]), ...]\n",
    "    d = dict()\n",
    "    for h, content in data:\n",
    "        if h not in d.keys():\n",
    "            d[h] = []\n",
    "        d[h].append(content)\n",
    "    return list(d.items())"
   ]
  },
  {
   "cell_type": "code",
   "execution_count": null,
   "metadata": {},
   "outputs": [],
   "source": [
    "geoclustered = groupby(zip(l, df.to_numpy()))"
   ]
  },
  {
   "cell_type": "code",
   "execution_count": null,
   "metadata": {},
   "outputs": [],
   "source": [
    "def mmap(func, seq):\n",
    "    def newfunc(seq):\n",
    "        return func(*seq)\n",
    "    return map(newfunc, seq)"
   ]
  },
  {
   "cell_type": "code",
   "execution_count": null,
   "metadata": {},
   "outputs": [],
   "source": [
    "from pipe import Pipe, Apply, Map\n",
    "from functools import partial"
   ]
  },
  {
   "cell_type": "code",
   "execution_count": null,
   "metadata": {},
   "outputs": [],
   "source": [
    "top_clusters = Pipe >> enumerate >> partial(mmap, lambda i, c: (len(c[1]), i)) >> sorted >> reversed >> list"
   ]
  },
  {
   "cell_type": "code",
   "execution_count": null,
   "metadata": {},
   "outputs": [],
   "source": [
    "top100_cases = top_clusters(geoclustered)[:100]"
   ]
  },
  {
   "cell_type": "code",
   "execution_count": null,
   "metadata": {},
   "outputs": [],
   "source": [
    "Map(top100_cases) | Pipe >> (lambda i: i[1]) >> geoclustered.__getitem__ >> (lambda i: i[0]) >> (lambda c: \", \".join(map(str, c)))"
   ]
  }
 ],
 "metadata": {
  "kernelspec": {
   "display_name": "Python 3",
   "language": "python",
   "name": "python3"
  },
  "language_info": {
   "codemirror_mode": {
    "name": "ipython",
    "version": 3
   },
   "file_extension": ".py",
   "mimetype": "text/x-python",
   "name": "python",
   "nbconvert_exporter": "python",
   "pygments_lexer": "ipython3",
   "version": "3.8.2"
  }
 },
 "nbformat": 4,
 "nbformat_minor": 4
}
